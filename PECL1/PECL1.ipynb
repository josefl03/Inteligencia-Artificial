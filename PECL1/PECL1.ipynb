{
  "nbformat": 4,
  "nbformat_minor": 0,
  "metadata": {
    "colab": {
      "provenance": []
    },
    "kernelspec": {
      "name": "python3",
      "display_name": "Python 3"
    },
    "language_info": {
      "name": "python"
    }
  },
  "cells": [
    {
      "cell_type": "code",
      "execution_count": null,
      "metadata": {
        "id": "R1JHf_j3_pbM",
        "colab": {
          "base_uri": "https://localhost:8080/"
        },
        "outputId": "f2a4798e-b380-472e-f736-987d44464c66"
      },
      "outputs": [
        {
          "output_type": "stream",
          "name": "stdout",
          "text": [
            "Requirement already satisfied: yfinance in /usr/local/lib/python3.10/dist-packages (0.2.31)\n",
            "Requirement already satisfied: pandas>=1.3.0 in /usr/local/lib/python3.10/dist-packages (from yfinance) (1.5.3)\n",
            "Requirement already satisfied: numpy>=1.16.5 in /usr/local/lib/python3.10/dist-packages (from yfinance) (1.23.5)\n",
            "Requirement already satisfied: requests>=2.31 in /usr/local/lib/python3.10/dist-packages (from yfinance) (2.31.0)\n",
            "Requirement already satisfied: multitasking>=0.0.7 in /usr/local/lib/python3.10/dist-packages (from yfinance) (0.0.11)\n",
            "Requirement already satisfied: lxml>=4.9.1 in /usr/local/lib/python3.10/dist-packages (from yfinance) (4.9.3)\n",
            "Requirement already satisfied: appdirs>=1.4.4 in /usr/local/lib/python3.10/dist-packages (from yfinance) (1.4.4)\n",
            "Requirement already satisfied: pytz>=2022.5 in /usr/local/lib/python3.10/dist-packages (from yfinance) (2023.3.post1)\n",
            "Requirement already satisfied: frozendict>=2.3.4 in /usr/local/lib/python3.10/dist-packages (from yfinance) (2.3.8)\n",
            "Requirement already satisfied: peewee>=3.16.2 in /usr/local/lib/python3.10/dist-packages (from yfinance) (3.17.0)\n",
            "Requirement already satisfied: beautifulsoup4>=4.11.1 in /usr/local/lib/python3.10/dist-packages (from yfinance) (4.11.2)\n",
            "Requirement already satisfied: html5lib>=1.1 in /usr/local/lib/python3.10/dist-packages (from yfinance) (1.1)\n",
            "Requirement already satisfied: soupsieve>1.2 in /usr/local/lib/python3.10/dist-packages (from beautifulsoup4>=4.11.1->yfinance) (2.5)\n",
            "Requirement already satisfied: six>=1.9 in /usr/local/lib/python3.10/dist-packages (from html5lib>=1.1->yfinance) (1.16.0)\n",
            "Requirement already satisfied: webencodings in /usr/local/lib/python3.10/dist-packages (from html5lib>=1.1->yfinance) (0.5.1)\n",
            "Requirement already satisfied: python-dateutil>=2.8.1 in /usr/local/lib/python3.10/dist-packages (from pandas>=1.3.0->yfinance) (2.8.2)\n",
            "Requirement already satisfied: charset-normalizer<4,>=2 in /usr/local/lib/python3.10/dist-packages (from requests>=2.31->yfinance) (3.3.2)\n",
            "Requirement already satisfied: idna<4,>=2.5 in /usr/local/lib/python3.10/dist-packages (from requests>=2.31->yfinance) (3.4)\n",
            "Requirement already satisfied: urllib3<3,>=1.21.1 in /usr/local/lib/python3.10/dist-packages (from requests>=2.31->yfinance) (2.0.7)\n",
            "Requirement already satisfied: certifi>=2017.4.17 in /usr/local/lib/python3.10/dist-packages (from requests>=2.31->yfinance) (2023.7.22)\n"
          ]
        }
      ],
      "source": [
        "!pip install yfinance"
      ]
    },
    {
      "cell_type": "code",
      "source": [],
      "metadata": {
        "id": "BFGO_SO0jZw3"
      },
      "execution_count": null,
      "outputs": []
    },
    {
      "cell_type": "code",
      "source": [
        "import yfinance as yf\n",
        "import numpy as np\n",
        "import scipy.stats as kurt\n",
        "from sklearn.metrics import mean_absolute_percentage_error\n",
        "from sklearn.metrics import mean_absolute_error\n",
        "from sklearn.metrics import mean_squared_error\n",
        "import matplotlib.pyplot as plt\n",
        "import pandas as pd\n"
      ],
      "metadata": {
        "id": "JdnaSOY2IjMi"
      },
      "execution_count": null,
      "outputs": []
    },
    {
      "cell_type": "code",
      "source": [
        "datos = yf.download(\"^GSPC\", start=\"2022-01-04\", end=\"2023-09-30\", rounding=True)['Close']\n",
        "print(datos)"
      ],
      "metadata": {
        "colab": {
          "base_uri": "https://localhost:8080/"
        },
        "id": "HVG-yN3HI1b0",
        "outputId": "a98ca981-2ca0-4da3-f2c2-783e7c1b9961"
      },
      "execution_count": null,
      "outputs": [
        {
          "output_type": "stream",
          "name": "stdout",
          "text": [
            "\r[*********************100%%**********************]  1 of 1 completed\n",
            "Date\n",
            "2022-01-04    4793.54\n",
            "2022-01-05    4700.58\n",
            "2022-01-06    4696.05\n",
            "2022-01-07    4677.03\n",
            "2022-01-10    4670.29\n",
            "               ...   \n",
            "2023-09-25    4337.44\n",
            "2023-09-26    4273.53\n",
            "2023-09-27    4274.51\n",
            "2023-09-28    4299.70\n",
            "2023-09-29    4288.05\n",
            "Name: Close, Length: 437, dtype: float64\n"
          ]
        }
      ]
    },
    {
      "cell_type": "markdown",
      "source": [
        "A. Realice un preprocesado de datos consistente en eliminar o corregir las\n",
        "observaciones inexistentes y en eliminar observaciones influyentes alejadas en\n",
        "mas/menos dos desviaciones típicas. Presente una tabla de resultados de la media, varianza, sesgo y kurtosis de la serie tratada. Dibuje también un\n",
        "histograma de la misma. (2 puntos)"
      ],
      "metadata": {
        "id": "L1aPCUnk3Ls7"
      }
    },
    {
      "cell_type": "code",
      "source": [
        "serie = datos.values  #Cogemos los valores de los datos recogidos de la página\n",
        "serieRentabilidad = []\n",
        "serieConsistente = []\n",
        "desviacionTipica = serie.std()\n",
        "media = serie.mean()\n",
        "\n",
        "\n",
        "#RENTABILIDAD\n",
        "for i in range(1, len(datos)):\n",
        "    serieRentabilidad.append((serie[i] - serie[i - 1]) / serie[i - 1])   #Calculamos rentabilidad para todos los datos y los añadimos a una lista\n",
        "\n",
        "#ELIMINAR DATOS ATÍPICOS\n",
        "for i in serie:\n",
        "  if(abs(i) - media < (desviacionTipica*2)):\n",
        "    serieConsistente.append(i)\n",
        "\n",
        "#RESULTADOS\n",
        "\n",
        "desviacionTipica = np.std(serieRentabilidad)\n",
        "media = np.mean(serieRentabilidad)\n",
        "varianza = desviacionTipica**2\n",
        "sesgo = 3*(np.mean(serieRentabilidad) - np.median(serieRentabilidad))/desviacionTipica\n",
        "curtosis = kurt.kurtosis(serieConsistente)\n",
        "print(\"MEDIA:\",media)\n",
        "print(\"VARIANZA:\",varianza)\n",
        "print(\"SESGO:\", sesgo)\n",
        "print(\"KURTOSIS:\", curtosis)\n",
        "#HISTOGRAMA\n",
        "plt.hist(serieRentabilidad, edgecolor = \"white\", label =\"Valores\")\n",
        "\n",
        "#CURVA\n",
        "mu, sigma = np.mean(serieRentabilidad), np.std(serieRentabilidad)\n",
        "x = np.linspace(min(serieRentabilidad), max(serieRentabilidad), 100)\n",
        "y = (1 / (sigma * np.sqrt(2 * np.pi)) * np.exp(-0.5 * ((x - mu) / sigma)**2))\n",
        "plt.plot(x, y, color='r', label='Curva')\n",
        "plt.xlabel('Valores')\n",
        "plt.ylabel('Frecuencia')\n",
        "plt.legend()\n",
        "plt.show()"
      ],
      "metadata": {
        "colab": {
          "base_uri": "https://localhost:8080/",
          "height": 518
        },
        "id": "VZKJEMBUJhSY",
        "outputId": "60e73506-a171-43ff-cce3-37e9bbb2e6df"
      },
      "execution_count": null,
      "outputs": [
        {
          "output_type": "stream",
          "name": "stdout",
          "text": [
            "MEDIA: -0.0001736404162646068\n",
            "VARIANZA: 0.00016372171864492235\n",
            "SESGO: 0.12613327223094198\n",
            "KURTOSIS: -0.961867380500613\n"
          ]
        },
        {
          "output_type": "display_data",
          "data": {
            "text/plain": [
              "<Figure size 640x480 with 1 Axes>"
            ],
            "image/png": "[encoded data removed]"
          },
          "metadata": {}
        }
      ]
    },
    {
      "cell_type": "markdown",
      "source": [
        "B. A partir de dichos rendimientos deberá construir una matriz de variables\n",
        "dependientes (rt) e independientes teniendo en cuenta las rentabilidades de los\n",
        "cinco días anteriores, Evidentemente solo es posible construir dicha matriz a\n",
        "partir de las SEXTA observación de rendimientos, debiendo descartar las filas\n",
        "no completas. A partir de dicha matriz el alumno debe construir un modelo de\n",
        "regresión lineal múltiple. Una vez implementado dicho modelo el alumno\n",
        "deberá producir dos columnas, una con el rendimiento real del activo y otra con\n",
        "el rendimiento predicho y sobre ambas calcular tres métricas: el mse, el mae y\n",
        "el mape. Todos estos cálculos se deben realizar dentro de la muestra, es decir,\n",
        "se refieren a la calidad de calibrado del modelo. (4 puntos)"
      ],
      "metadata": {
        "id": "2_hAJOKV3IMJ"
      }
    },
    {
      "cell_type": "code",
      "source": [
        "serieVectores = []\n",
        "for i in range(5, len(datos) - 1):\n",
        "    serieVectores.append([1, serieRentabilidad[i - 1], serieRentabilidad[i - 2], serieRentabilidad[i - 3], serieRentabilidad[i - 4], serieRentabilidad[i - 5]])  #Creamos la lista con los datos que debe llevar la matriz\n",
        "\n",
        "#Creamos la matriz\n",
        "y = np.vstack(serieRentabilidad[5:]) #Los 5 primeros datos no los agregamos ya que no es posible construir la matriz con dichos números\n",
        "X = np.vstack(serieVectores)\n",
        "param = np.linalg.inv(X.T @ X) @ (X.T @ y)  #Creamos el modelo lineal para conseguir los parámetros de este\n",
        "print(param)\n",
        "\n",
        "prediccion = X @ param\n",
        "serieReal = np.array(serieRentabilidad[5:])\n",
        "df = pd.DataFrame({'Real': serieReal, 'Predicho': prediccion.flatten()}, columns=['Real', 'Predicho'])\n",
        "print(df)\n",
        "\n",
        "\n",
        "# mae\n",
        "mae = mean_absolute_error(serieReal, prediccion)\n",
        "print(\"MAE: \", mae)\n",
        "\n",
        "# mse\n",
        "mse = mean_squared_error(serieReal, prediccion)\n",
        "print(\"MSE: \", mse)\n",
        "\n",
        "# mape\n",
        "mape = mean_absolute_percentage_error(serieReal, prediccion)*100\n",
        "print(\"MAPE: \", mape)\n",
        "\n",
        "#rt = 0\n",
        "ceros = []\n",
        "for i in range (len(prediccion)):\n",
        "  ceros.append(0)\n",
        "\n",
        "# mae\n",
        "mae = mean_absolute_error(prediccion, ceros)\n",
        "print(\"MAE: \", mae)\n",
        "\n",
        "# mse\n",
        "mse = mean_squared_error(prediccion, ceros)\n",
        "print(\"MSE: \", mse)\n",
        "\n",
        "# mape\n",
        "mape = mean_absolute_percentage_error(prediccion, ceros)*100\n",
        "print(\"MAPE: \", mape)"
      ],
      "metadata": {
        "colab": {
          "base_uri": "https://localhost:8080/"
        },
        "id": "Wiqv0agX3RRb",
        "outputId": "9d0f1c42-d83d-4ec9-db1c-e82c8a8aa7f0"
      },
      "execution_count": null,
      "outputs": [
        {
          "output_type": "stream",
          "name": "stdout",
          "text": [
            "[[-0.00014749]\n",
            " [ 0.00648451]\n",
            " [-0.0539616 ]\n",
            " [-0.0318776 ]\n",
            " [-0.01034046]\n",
            " [ 0.00617774]]\n",
            "         Real  Predicho\n",
            "0    0.002818  0.000009\n",
            "1   -0.014244 -0.000542\n",
            "2    0.000820 -0.000694\n",
            "3   -0.018388  0.000433\n",
            "4   -0.009690  0.000171\n",
            "..        ...       ...\n",
            "426  0.004023  0.001049\n",
            "427 -0.014734  0.000609\n",
            "428  0.000229 -0.000275\n",
            "429  0.005893  0.000443\n",
            "430 -0.002709  0.000292\n",
            "\n",
            "[431 rows x 2 columns]\n",
            "MAE:  0.009716033060463036\n",
            "MSE:  0.00016383702376434548\n",
            "MAPE:  111.88872121117089\n",
            "MAE:  0.0006738174530387213\n",
            "MSE:  7.022336274549211e-07\n",
            "MAPE:  100.0\n"
          ]
        }
      ]
    },
    {
      "cell_type": "markdown",
      "source": [
        "C. Para\tla\tsiguiente\tpregunta\tel\talumno\tdebe\trepetir\tla\tsecciones\tel\tcalculo\tde\tlos\n",
        "parámetros\tdel\tmodelo\tlineal\tpero\tde\tmanera\titerada,\tes\tdecir,\tconsiderando\n",
        "una\tventana\tDESLIZANTE\tde\tUN\tDIA\ty\tconsiderando\tlas\ttreinta\tobservaciones\n",
        "anteriores, es\tdecir,\tse\templean los\túltimos\t30\tdías para\tpredecir\tel\tsiguiente,\n",
        "mover\tun\tdía la\tventana\t(manteniendo\tlos\t30\túltimos días)\ty\tvolver\ta\tpredecir,\n",
        "etc.."
      ],
      "metadata": {
        "id": "i8SXRHe3CjSv"
      }
    },
    {
      "cell_type": "code",
      "source": [
        "listaParam = []\n",
        "tamanno = 0\n",
        "while tamanno < (len(serieReal) - 30):\n",
        "    yaux = y[0 + tamanno:29 + tamanno, :]\n",
        "    Xaux = X[0 + tamanno:29 + tamanno, :]\n",
        "    param = np.linalg.inv(Xaux.T @ Xaux) @ (Xaux.T @ yaux)\n",
        "    listaParam.append(param)\n",
        "    tamanno = tamanno + 1\n",
        "\n",
        "\n",
        "matrixParam = np.array(listaParam)\n",
        "print(matrixParam)\n",
        "\n"
      ],
      "metadata": {
        "colab": {
          "base_uri": "https://localhost:8080/"
        },
        "id": "3O_kSL6eClPc",
        "outputId": "3fbc5ddf-6a75-4cdf-b5d0-2d71564a1606"
      },
      "execution_count": null,
      "outputs": [
        {
          "output_type": "stream",
          "name": "stdout",
          "text": [
            "[[[-0.00297096]\n",
            "  [ 0.18969642]\n",
            "  [ 0.02105582]\n",
            "  [-0.08447995]\n",
            "  [-0.12614579]\n",
            "  [ 0.23139461]]\n",
            "\n",
            " [[-0.00307945]\n",
            "  [ 0.11029366]\n",
            "  [ 0.01019067]\n",
            "  [-0.08231066]\n",
            "  [-0.21686489]\n",
            "  [ 0.27545614]]\n",
            "\n",
            " [[-0.00192054]\n",
            "  [ 0.21050166]\n",
            "  [-0.05638129]\n",
            "  [-0.10879547]\n",
            "  [-0.21769792]\n",
            "  [ 0.18107068]]\n",
            "\n",
            " ...\n",
            "\n",
            " [[-0.00109599]\n",
            "  [ 0.03405705]\n",
            "  [ 0.0664599 ]\n",
            "  [-0.10992286]\n",
            "  [ 0.00827506]\n",
            "  [ 0.01439159]]\n",
            "\n",
            " [[-0.00110485]\n",
            "  [ 0.02376454]\n",
            "  [ 0.0666888 ]\n",
            "  [ 0.04242213]\n",
            "  [ 0.05026587]\n",
            "  [-0.01146839]]\n",
            "\n",
            " [[-0.00085854]\n",
            "  [-0.0319008 ]\n",
            "  [ 0.10016613]\n",
            "  [ 0.049306  ]\n",
            "  [ 0.03561613]\n",
            "  [-0.04990106]]]\n"
          ]
        }
      ]
    },
    {
      "cell_type": "code",
      "source": [
        "\n",
        "for i, param in enumerate(matrixParam):\n",
        "    yaux = y[i:i+30]\n",
        "    ypredicha = X[i:i+30] @ param\n",
        "\n",
        "# mae\n",
        "mae = mean_absolute_error(yaux, ypredicha)\n",
        "print(\"MAE: \", mae)\n",
        "\n",
        "# mse\n",
        "mse = mean_squared_error(yaux, ypredicha)\n",
        "print(\"MSE: \", mse)\n",
        "\n",
        "# mape\n",
        "mape = mean_absolute_percentage_error(yaux, ypredicha)\n",
        "print(\"MAPE: \", mape)"
      ],
      "metadata": {
        "colab": {
          "base_uri": "https://localhost:8080/"
        },
        "id": "jjviqjW6NvtO",
        "outputId": "72d2e6c9-6782-4de2-d5a4-bc4b2a420a47"
      },
      "execution_count": null,
      "outputs": [
        {
          "output_type": "stream",
          "name": "stdout",
          "text": [
            "MAE:  0.0061491381287910995\n",
            "MSE:  5.685716206391698e-05\n",
            "MAPE:  1.3853704508124298\n"
          ]
        }
      ]
    },
    {
      "cell_type": "markdown",
      "source": [
        "D. En\t el\t caso\t de\t la\t ventana\t deslizante,\t suponga\t ahora\t que\t quiere\t emplear\t el\n",
        "modelo\tpara\tinvertir (considere\tque\tno\thay\tcostes\tde\ttransacción\tni\tventas\ten\n",
        "corto,\t es\t decir, solo\t se\t puede\t invertir\t en\t caso\t de\t una\t predicción\t de\t precio\n",
        "superior\tal\tactual)"
      ],
      "metadata": {
        "id": "vJabPxPgDTd0"
      }
    },
    {
      "cell_type": "code",
      "source": [
        "tamanno = 0\n",
        "rentabilidad = 0\n",
        "while tamanno < (len(serieReal) - 30):\n",
        "    yaux = y[30 + tamanno, :]\n",
        "    Xaux = X[30 + tamanno, :]\n",
        "    prediccion = listaParam[tamanno].T @ Xaux\n",
        "    rentabilidad = rentabilidad + (prediccion - yaux)\n",
        "    tamanno = tamanno + 1\n",
        "\n",
        "print(rentabilidad)\n"
      ],
      "metadata": {
        "colab": {
          "base_uri": "https://localhost:8080/"
        },
        "id": "TTa0zjK0DUqG",
        "outputId": "2f0db055-1f0b-491c-b787-fddf7b373e25"
      },
      "execution_count": null,
      "outputs": [
        {
          "output_type": "stream",
          "name": "stdout",
          "text": [
            "[-0.13773426]\n"
          ]
        }
      ]
    }
  ]
}