{
  "nbformat": 4,
  "nbformat_minor": 0,
  "metadata": {
    "colab": {
      "provenance": []
    },
    "kernelspec": {
      "name": "python3",
      "display_name": "Python 3"
    },
    "language_info": {
      "name": "python"
    }
  },
  "cells": [
    {
      "cell_type": "markdown",
      "source": [
        "## **1. Primera\tParte\t(5\tpuntos)**\n",
        "\n",
        "El\talumno\tpuede\templear\tlibremente\tcualquier\tbase\tde\tdatos\tde\treconocimiento\tde\timágenes\tcomo\t“MNIST”,\t“FASHION\tMNIST”\t“Breast\tHistopathology\tImages\tDataset” etc.\tSobre\tdicha\tbase\tde\tdatos\tel\talumno\tdebe\timplementar\tuna\tred\tconvolutiva\tpara la\tclasificación\tde\tlas imágenes\templeando\tla\tlibrería\tkeras."
      ],
      "metadata": {
        "id": "t5SX6TMXON0s"
      }
    },
    {
      "cell_type": "code",
      "execution_count": null,
      "metadata": {
        "id": "3hjMrWCmICFz"
      },
      "outputs": [],
      "source": [
        "# Importar librerías necesarias\n",
        "import numpy as np\n",
        "import matplotlib.pyplot as plt\n",
        "from keras import layers, models\n",
        "from keras.datasets import mnist    # Base de datos MNIST\n",
        "from keras.utils import to_categorical\n",
        "import tensorflow as tf"
      ]
    },
    {
      "cell_type": "code",
      "source": [
        "print(mnist)"
      ],
      "metadata": {
        "colab": {
          "base_uri": "https://localhost:8080/"
        },
        "id": "5B60kpyiOZH8",
        "outputId": "18877db4-c25d-4d4f-cad7-a46d3dc42a12"
      },
      "execution_count": null,
      "outputs": [
        {
          "output_type": "stream",
          "name": "stdout",
          "text": [
            "<module 'keras.datasets.mnist' from '/usr/local/lib/python3.10/dist-packages/keras/datasets/mnist/__init__.py'>\n"
          ]
        }
      ]
    },
    {
      "cell_type": "markdown",
      "source": [
        "1. Explicar\tbrevemente\tel\tproblema (1\tpunto)"
      ],
      "metadata": {
        "id": "XBf6WmIlOrE4"
      }
    },
    {
      "cell_type": "markdown",
      "source": [
        "El problema es que necesitamos clasificar imágenes de forma automática y con alta fiabilidad. Esto no se puede lograr con programación convencional ya que tenemos que leer los píxeles de las imágenes y estas pueden estar movidas, rotadas, difuminadas, etc... Por lo que debemos usar un modelo de inteligencia artificial.\n",
        "\n",
        "Podemos usar varios tipos de modelos para esta tarea. En esta práctica utilizaremos las RNA (Redes Neuronales Alimentadas hacia adelante), debido a su capacidad de aproximación universal y las CNN (Convolutional Neural Networks), ya que son más eficientes en el procesamiento de imágenes.\n",
        "\n",
        "Este problema es importante ya que puede ser utilizado no solo para clasificar números o ropa, sino también para reconocer obstáculos en vehículos de conducción automático, detección de patologías en el campo médico, en sistemas de seguridad, sistemas de reconocimiento facial, y demás, que dentro de unos años serán completamente necesarios y realizados de forma automática para lograr resultados más rápidos y fiables (Eliminando el factor humano)."
      ],
      "metadata": {
        "id": "zXKpmgNvU5H3"
      }
    },
    {
      "cell_type": "markdown",
      "source": [
        "2. Intentar emplear una RNA alimentada hacia a delante para resolver el\n",
        "problema, realizar una crítica de porqué si o por qué no dicho modelo es\n",
        "adecuado (1 punto)"
      ],
      "metadata": {
        "id": "dkpz-AvXfGWr"
      }
    },
    {
      "cell_type": "code",
      "source": [
        "#Cargar imágenes y etiquetas\n",
        "(train_images, train_labels), (test_images, test_labels) = mnist.load_data()\n",
        "\n",
        "#Mostrar algunas imágenes\n",
        "num_images_to_display = 5\n",
        "plt.figure(figsize=(10, 2))\n",
        "for i in range(num_images_to_display):\n",
        "    ax = plt.subplot(1, num_images_to_display, i + 1)\n",
        "    plt.imshow(test_images[i].reshape(28, 28), cmap='gray')\n",
        "    plt.title(f'Etiqueta: {test_labels[i]}')\n",
        "    plt.axis('off')\n",
        "plt.show()"
      ],
      "metadata": {
        "colab": {
          "base_uri": "https://localhost:8080/",
          "height": 228
        },
        "id": "HCCCKs5ufJZp",
        "outputId": "96cdb9f8-94f0-4641-b742-38bbd7a1c11b"
      },
      "execution_count": null,
      "outputs": [
        {
          "output_type": "stream",
          "name": "stdout",
          "text": [
            "Downloading data from https://storage.googleapis.com/tensorflow/tf-keras-datasets/mnist.npz\n",
            "11490434/11490434 [==============================] - 0s 0us/step\n"
          ]
        },
        {
          "output_type": "display_data",
          "data": {
            "text/plain": [
              "<Figure size 1000x200 with 5 Axes>"
            ],
            "image/png": "[encoded data removed]"
          },
          "metadata": {}
        }
      ]
    },
    {
      "cell_type": "code",
      "source": [
        "#Cambiar forma\n",
        "    #nº ejemplos, anchura, altura, nº de canales (Escala de grises: 1, RGB: 3)\n",
        "train_images = train_images.reshape((60000, 28, 28, 1))\n",
        "test_images = test_images.reshape((10000, 28, 28, 1))\n",
        "\n",
        "#Normalizar píxeles\n",
        "train_images = train_images.astype('float32') / 255\n",
        "test_images = test_images.astype('float32') / 255\n",
        "\n",
        "#Cambiar etiquetas (Array de enteros según índice -> Matriz de características)\n",
        "train_labels = to_categorical(train_labels)\n",
        "test_labels = to_categorical(test_labels)"
      ],
      "metadata": {
        "id": "5201vCEGg2UI"
      },
      "execution_count": null,
      "outputs": []
    },
    {
      "cell_type": "code",
      "source": [
        "#Poner en orden aleatorio\n",
        "train_indices = np.arange(train_images.shape[0])\n",
        "np.random.shuffle(train_indices)\n",
        "train_images = train_images[train_indices]\n",
        "train_labels = train_labels[train_indices]\n",
        "\n",
        "test_indices = np.arange(test_images.shape[0])\n",
        "np.random.shuffle(test_indices)\n",
        "test_images = test_images[test_indices]\n",
        "test_labels = test_labels[test_indices]"
      ],
      "metadata": {
        "id": "lvYnXCGmqPKo"
      },
      "execution_count": null,
      "outputs": []
    },
    {
      "cell_type": "code",
      "source": [
        "#Construir RNA\n",
        "rna = models.Sequential()\n",
        "rna.add(layers.Flatten(input_shape=(28, 28, 1))) #28x28, grayscale\n",
        "rna.add(layers.Dense(128, activation='relu'))\n",
        "rna.add(layers.Dense(10, activation='softmax'))\n",
        "\n",
        "rna.compile(optimizer='adam', loss='categorical_crossentropy', metrics=['accuracy'])\n",
        "\n",
        "#Entrenar RNA\n",
        "        #epochs: nº de iteraciones, batch_size: nº de ejemplos procesados por cada iteración\n",
        "rna.fit(train_images, train_labels, epochs=5, batch_size=64, validation_data=(test_images, test_labels))\n",
        "\n",
        "rna1 = rna"
      ],
      "metadata": {
        "colab": {
          "base_uri": "https://localhost:8080/"
        },
        "id": "LocvrZ8fkUDr",
        "outputId": "f3d5e3c5-8589-44c9-dda1-b699867beca2"
      },
      "execution_count": null,
      "outputs": [
        {
          "output_type": "stream",
          "name": "stdout",
          "text": [
            "Epoch 1/5\n",
            "938/938 [==============================] - 6s 6ms/step - loss: 0.2999 - accuracy: 0.9142 - val_loss: 0.1748 - val_accuracy: 0.9491\n",
            "Epoch 2/5\n",
            "938/938 [==============================] - 4s 4ms/step - loss: 0.1387 - accuracy: 0.9596 - val_loss: 0.1143 - val_accuracy: 0.9650\n",
            "Epoch 3/5\n",
            "938/938 [==============================] - 4s 4ms/step - loss: 0.0982 - accuracy: 0.9712 - val_loss: 0.0977 - val_accuracy: 0.9699\n",
            "Epoch 4/5\n",
            "938/938 [==============================] - 5s 6ms/step - loss: 0.0756 - accuracy: 0.9777 - val_loss: 0.0855 - val_accuracy: 0.9715\n",
            "Epoch 5/5\n",
            "938/938 [==============================] - 4s 4ms/step - loss: 0.0589 - accuracy: 0.9827 - val_loss: 0.0796 - val_accuracy: 0.9748\n"
          ]
        }
      ]
    },
    {
      "cell_type": "code",
      "source": [
        "#Construir RNA\n",
        "rna = models.Sequential()\n",
        "rna.add(layers.Flatten(input_shape=(28, 28, 1))) #28x28, grayscale\n",
        "rna.add(layers.Dense(16, activation='relu'))\n",
        "rna.add(layers.Dense(16, activation='relu'))\n",
        "rna.add(layers.Dense(16, activation='relu'))\n",
        "rna.add(layers.Dense(10, activation='softmax'))\n",
        "\n",
        "rna.compile(optimizer='adam', loss='categorical_crossentropy', metrics=['accuracy'])\n",
        "\n",
        "#Entrenar RNA\n",
        "        #epochs: nº de iteraciones, batch_size: nº de ejemplos procesados por cada iteración\n",
        "rna.fit(train_images, train_labels, epochs=5, batch_size=64, validation_data=(test_images, test_labels))\n",
        "\n",
        "rna2 = rna"
      ],
      "metadata": {
        "colab": {
          "base_uri": "https://localhost:8080/"
        },
        "id": "L_Cra0eT-tdH",
        "outputId": "e51673db-acf9-4b01-cee6-832caf932f0f"
      },
      "execution_count": null,
      "outputs": [
        {
          "output_type": "stream",
          "name": "stdout",
          "text": [
            "Epoch 1/5\n",
            "938/938 [==============================] - 5s 4ms/step - loss: 0.5779 - accuracy: 0.8156 - val_loss: 0.2893 - val_accuracy: 0.9168\n",
            "Epoch 2/5\n",
            "938/938 [==============================] - 3s 3ms/step - loss: 0.2593 - accuracy: 0.9249 - val_loss: 0.2266 - val_accuracy: 0.9326\n",
            "Epoch 3/5\n",
            "938/938 [==============================] - 4s 4ms/step - loss: 0.2126 - accuracy: 0.9383 - val_loss: 0.2100 - val_accuracy: 0.9369\n",
            "Epoch 4/5\n",
            "938/938 [==============================] - 2s 3ms/step - loss: 0.1891 - accuracy: 0.9443 - val_loss: 0.1916 - val_accuracy: 0.9420\n",
            "Epoch 5/5\n",
            "938/938 [==============================] - 4s 4ms/step - loss: 0.1721 - accuracy: 0.9493 - val_loss: 0.1866 - val_accuracy: 0.9448\n"
          ]
        }
      ]
    },
    {
      "cell_type": "code",
      "source": [
        "#Evaluar RNA\n",
        "loss, accuracy = rna1.evaluate(test_images, test_labels)\n",
        "print(f\"Exactitud con RNA: {accuracy * 100:.2f}%\")\n",
        "\n",
        "#Evaluar RNA\n",
        "loss, accuracy = rna2.evaluate(test_images, test_labels)\n",
        "print(f\"Exactitud con RNA: {accuracy * 100:.2f}%\")"
      ],
      "metadata": {
        "colab": {
          "base_uri": "https://localhost:8080/"
        },
        "id": "2f3spARgonDv",
        "outputId": "70eb9230-5bd1-4f75-c3a2-bbf538c6fad9"
      },
      "execution_count": null,
      "outputs": [
        {
          "output_type": "stream",
          "name": "stdout",
          "text": [
            "313/313 [==============================] - 1s 2ms/step - loss: 0.0796 - accuracy: 0.9748\n",
            "Exactitud con RNA: 97.48%\n",
            "313/313 [==============================] - 1s 2ms/step - loss: 0.1866 - accuracy: 0.9448\n",
            "Exactitud con RNA: 94.48%\n"
          ]
        }
      ]
    },
    {
      "cell_type": "markdown",
      "source": [
        "\n",
        "\n",
        "\n",
        "\n",
        "\n",
        "\n"
      ],
      "metadata": {
        "id": "tb-4dd6WsGHQ"
      }
    },
    {
      "cell_type": "markdown",
      "source": [
        "3. Hacer lo mismo con una red convolutiva (1 punto)"
      ],
      "metadata": {
        "id": "xP6GKP64sehd"
      }
    },
    {
      "cell_type": "code",
      "source": [
        "#Construir CNN\n",
        "cnn = models.Sequential()\n",
        "cnn.add(layers.Conv2D(32, (3, 3), activation='relu', input_shape=(28, 28, 1)))\n",
        "cnn.add(layers.MaxPooling2D((2, 2)))\n",
        "cnn.add(layers.Flatten())\n",
        "cnn.add(layers.Dense(32, activation='relu'))\n",
        "cnn.add(layers.Dense(10, activation='softmax'))\n",
        "\n",
        "#Compilar modelo (igual que RNA)\n",
        "cnn.compile(optimizer='adam', loss='categorical_crossentropy', metrics=['accuracy'])\n",
        "\n",
        "#Entrenar modelo (igual que RNA)\n",
        "cnn.fit(train_images, train_labels, epochs=5, batch_size=64, validation_data=(test_images, test_labels))\n",
        "\n",
        "cnn1 = cnn"
      ],
      "metadata": {
        "colab": {
          "base_uri": "https://localhost:8080/"
        },
        "id": "LHmDohvNsZXh",
        "outputId": "14d841f6-b664-45b4-c75d-3cc3f7368431"
      },
      "execution_count": null,
      "outputs": [
        {
          "output_type": "stream",
          "name": "stdout",
          "text": [
            "Epoch 1/5\n",
            "938/938 [==============================] - 25s 26ms/step - loss: 0.2353 - accuracy: 0.9322 - val_loss: 0.0976 - val_accuracy: 0.9709\n",
            "Epoch 2/5\n",
            "938/938 [==============================] - 24s 26ms/step - loss: 0.0806 - accuracy: 0.9762 - val_loss: 0.0694 - val_accuracy: 0.9775\n",
            "Epoch 3/5\n",
            "938/938 [==============================] - 24s 26ms/step - loss: 0.0578 - accuracy: 0.9826 - val_loss: 0.0521 - val_accuracy: 0.9818\n",
            "Epoch 4/5\n",
            "938/938 [==============================] - 23s 24ms/step - loss: 0.0444 - accuracy: 0.9866 - val_loss: 0.0554 - val_accuracy: 0.9808\n",
            "Epoch 5/5\n",
            "938/938 [==============================] - 24s 26ms/step - loss: 0.0363 - accuracy: 0.9890 - val_loss: 0.0577 - val_accuracy: 0.9809\n"
          ]
        }
      ]
    },
    {
      "cell_type": "code",
      "source": [
        "#Construir CNN\n",
        "cnn = models.Sequential()\n",
        "cnn.add(layers.Conv2D(32, (3, 3), activation='relu', input_shape=(28, 28, 1)))\n",
        "cnn.add(layers.MaxPooling2D((2, 2)))\n",
        "cnn.add(layers.Flatten())\n",
        "cnn.add(layers.Dense(32, activation='relu'))\n",
        "cnn.add(layers.Dense(10, activation='softmax'))\n",
        "\n",
        "#Compilar modelo (igual que RNA)\n",
        "cnn.compile(optimizer='adam', loss='categorical_crossentropy', metrics=['accuracy'])\n",
        "\n",
        "#Entrenar modelo (igual que RNA)\n",
        "cnn.fit(train_images, train_labels, epochs=5, batch_size=64, validation_data=(test_images, test_labels))\n",
        "\n",
        "cnn2 = cnn"
      ],
      "metadata": {
        "colab": {
          "base_uri": "https://localhost:8080/"
        },
        "id": "OSc-G4tL-ITJ",
        "outputId": "7c72ae88-5df0-491c-c5fc-1bab44c8ee15"
      },
      "execution_count": null,
      "outputs": [
        {
          "output_type": "stream",
          "name": "stdout",
          "text": [
            "Epoch 1/5\n",
            "938/938 [==============================] - 25s 26ms/step - loss: 0.2348 - accuracy: 0.9325 - val_loss: 0.0865 - val_accuracy: 0.9740\n",
            "Epoch 2/5\n",
            "938/938 [==============================] - 24s 25ms/step - loss: 0.0756 - accuracy: 0.9785 - val_loss: 0.0639 - val_accuracy: 0.9802\n",
            "Epoch 3/5\n",
            "938/938 [==============================] - 25s 27ms/step - loss: 0.0540 - accuracy: 0.9840 - val_loss: 0.0502 - val_accuracy: 0.9836\n",
            "Epoch 4/5\n",
            "938/938 [==============================] - 23s 25ms/step - loss: 0.0418 - accuracy: 0.9875 - val_loss: 0.0462 - val_accuracy: 0.9854\n",
            "Epoch 5/5\n",
            "938/938 [==============================] - 24s 25ms/step - loss: 0.0323 - accuracy: 0.9905 - val_loss: 0.0488 - val_accuracy: 0.9837\n"
          ]
        }
      ]
    },
    {
      "cell_type": "code",
      "source": [
        "#Construir CNN\n",
        "cnn = models.Sequential()\n",
        "cnn.add(layers.Conv2D(32, (3, 3), activation='relu', input_shape=(28, 28, 1)))\n",
        "cnn.add(layers.MaxPooling2D((2, 2)))\n",
        "cnn.add(layers.Conv2D(64, (3, 3), activation='relu'))\n",
        "cnn.add(layers.MaxPooling2D((2, 2)))\n",
        "cnn.add(layers.Conv2D(64, (3, 3), activation='relu'))\n",
        "cnn.add(layers.Flatten())\n",
        "cnn.add(layers.Dense(64, activation='relu'))\n",
        "cnn.add(layers.Dense(10, activation='softmax'))\n",
        "\n",
        "#Compilar modelo (igual que RNA)\n",
        "cnn.compile(optimizer='adam', loss='categorical_crossentropy', metrics=['accuracy'])\n",
        "\n",
        "#Entrenar modelo (igual que RNA)\n",
        "cnn.fit(train_images, train_labels, epochs=5, batch_size=64, validation_data=(test_images, test_labels))\n",
        "\n",
        "cnn3 = cnn"
      ],
      "metadata": {
        "colab": {
          "base_uri": "https://localhost:8080/"
        },
        "id": "vlyM9TKl-KEm",
        "outputId": "4081edac-3b25-4c4f-9e3c-ccfe25cbee13"
      },
      "execution_count": null,
      "outputs": [
        {
          "output_type": "stream",
          "name": "stdout",
          "text": [
            "Epoch 1/5\n",
            "938/938 [==============================] - 51s 53ms/step - loss: 0.1842 - accuracy: 0.9437 - val_loss: 0.0557 - val_accuracy: 0.9811\n",
            "Epoch 2/5\n",
            "938/938 [==============================] - 57s 60ms/step - loss: 0.0517 - accuracy: 0.9841 - val_loss: 0.0430 - val_accuracy: 0.9853\n",
            "Epoch 3/5\n",
            "938/938 [==============================] - 56s 59ms/step - loss: 0.0364 - accuracy: 0.9886 - val_loss: 0.0415 - val_accuracy: 0.9856\n",
            "Epoch 4/5\n",
            "938/938 [==============================] - 55s 59ms/step - loss: 0.0291 - accuracy: 0.9909 - val_loss: 0.0316 - val_accuracy: 0.9892\n",
            "Epoch 5/5\n",
            "938/938 [==============================] - 52s 55ms/step - loss: 0.0234 - accuracy: 0.9924 - val_loss: 0.0296 - val_accuracy: 0.9899\n"
          ]
        }
      ]
    },
    {
      "cell_type": "code",
      "source": [
        "#Evaluar CNN\n",
        "loss, accuracy = cnn1.evaluate(test_images, test_labels)\n",
        "print(f\"Exactitud con CNN: {accuracy * 100:.2f}%\")\n",
        "\n",
        "#Evaluar CNN\n",
        "loss, accuracy = cnn2.evaluate(test_images, test_labels)\n",
        "print(f\"Exactitud con CNN: {accuracy * 100:.2f}%\")\n",
        "\n",
        "#Evaluar CNN\n",
        "loss, accuracy = cnn3.evaluate(test_images, test_labels)\n",
        "print(f\"Exactitud con CNN: {accuracy * 100:.2f}%\")"
      ],
      "metadata": {
        "colab": {
          "base_uri": "https://localhost:8080/"
        },
        "id": "yGdp8l9Xs1e6",
        "outputId": "d35a5d2b-06c9-4f6f-d14b-2d0ec2d21b2b"
      },
      "execution_count": null,
      "outputs": [
        {
          "output_type": "stream",
          "name": "stdout",
          "text": [
            "313/313 [==============================] - 2s 5ms/step - loss: 0.0577 - accuracy: 0.9809\n",
            "Exactitud con CNN: 98.09%\n",
            "313/313 [==============================] - 2s 5ms/step - loss: 0.0488 - accuracy: 0.9837\n",
            "Exactitud con CNN: 98.37%\n",
            "313/313 [==============================] - 4s 11ms/step - loss: 0.0296 - accuracy: 0.9899\n",
            "Exactitud con CNN: 98.99%\n"
          ]
        }
      ]
    },
    {
      "cell_type": "markdown",
      "source": [
        "4. Evaluar la capacidad de entrenamiento y test de la red convolutiva (1 punto)"
      ],
      "metadata": {
        "id": "sFjEfwxStVMc"
      }
    },
    {
      "cell_type": "code",
      "source": [
        "from sklearn.metrics import confusion_matrix\n",
        "import seaborn as sns\n",
        "import numpy as np\n",
        "\n",
        "predictions = cnn.predict(test_images)\n",
        "y_pred = np.argmax(predictions, axis=1)\n",
        "y_true = np.argmax(test_labels, axis=1)\n",
        "\n",
        "cm = confusion_matrix(y_true, y_pred)\n",
        "plt.figure(figsize=(10, 8))\n",
        "sns.heatmap(cm, annot=True, fmt='d', cmap='Blues', xticklabels=['0','1','2','3','4','5','6','7','8','9'], yticklabels=['0','1','2','3','4','5','6','7','8','9'])\n",
        "plt.xlabel('Predecido')\n",
        "plt.ylabel('Real')\n",
        "plt.show()\n"
      ],
      "metadata": {
        "colab": {
          "base_uri": "https://localhost:8080/",
          "height": 714
        },
        "id": "I1qGjA6GpIXk",
        "outputId": "0fe0e0ed-0332-46c3-96bf-7ec6e5d0046b"
      },
      "execution_count": null,
      "outputs": [
        {
          "output_type": "stream",
          "name": "stdout",
          "text": [
            "313/313 [==============================] - 2s 5ms/step\n"
          ]
        },
        {
          "output_type": "display_data",
          "data": {
            "text/plain": [
              "<Figure size 1000x800 with 2 Axes>"
            ],
            "image/png": "[encoded data removed]"
          },
          "metadata": {}
        }
      ]
    },
    {
      "cell_type": "markdown",
      "source": [
        "Si evaluamos los modelos calculados anteriormente, podemos observar que cuanto más complejo es la arquitectura del modelo, existe una precisión mayor, una función de perdida menor y el tiempo en que tarda en desarrollarse el modelo en cuestion será mayor. Por lo tanto, podemos observar que si la red convolutiva es bastante compleja nos dará una precisión mayor, pero esto hará que el modelo sea más lento. En nuestro caso, como nos importa más que sea preciso y el tiempo no es excesivo para que nos bloqueé, nos parece un buen modelo.\n",
        "\n",
        "Por otro lado, si vemos la matriz de confusión, vemos que se genera una diagonal de colores muy oscuros comparados con los demás cuadrados blancos. Esto es positivo porque nos indica que esta siendo bastante preciso. Podemos observar que puede encontrar problemas con números parecidos como pueden ser 0 y 6, 7 y 2 o 5 y 3.\n",
        "\n"
      ],
      "metadata": {
        "id": "jEo6T3r6jfs6"
      }
    },
    {
      "cell_type": "markdown",
      "source": [
        "5. Explicar posibles mejoras (1 punto)"
      ],
      "metadata": {
        "id": "o61-I1pitW3U"
      }
    },
    {
      "cell_type": "markdown",
      "source": [
        "Una posible mejora para intentar ayudar al modelo detectar de una manera más correcta los números en cuestión, sería poner más ejemplos de entrenamiento para los números que tenga más problemas de detectar (por ejemplo más 0 y 6), y decrementar aquellos en los que el modelo tenga menos problemas (por ejemplo el 1).\n",
        "\n",
        "Otra posible mejora pensada puede ser que se añadan imagenes rotadas, movidas, o incluso con imagenes con ruido, para poder hacer que el modelo no se sobreajuste y tenga bastante mas flexibilidad.\n",
        "\n",
        "Reducir el tiempo de ejecución, sería bastante importante, por lo que quedarnos con el primer modelo de red convolucional no sería tan mala idea ya que la precisión, aunque sea menor, es bastante parecida y el tiempo de ejecucion es la mitad comparado con la más compleja.\n",
        "\n"
      ],
      "metadata": {
        "id": "9iO1K0g2tXY2"
      }
    }
  ]
}